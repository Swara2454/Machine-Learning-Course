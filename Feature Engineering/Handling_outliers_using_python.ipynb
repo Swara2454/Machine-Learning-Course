{
 "cells": [
  {
   "cell_type": "code",
   "execution_count": 51,
   "id": "4713d074",
   "metadata": {},
   "outputs": [],
   "source": [
    "import numpy as np"
   ]
  },
  {
   "cell_type": "code",
   "execution_count": 52,
   "id": "c8cc15b0",
   "metadata": {},
   "outputs": [],
   "source": [
    "lst_marks=[20,23,34,35,36,45,43,76,78,89,90,36,56,75,87,65,98]\n",
    "min,q1,median,q3,max=np.quantile(lst_marks,[0,0.25,0.5,0.75,1])"
   ]
  },
  {
   "cell_type": "code",
   "execution_count": 53,
   "id": "977fe794",
   "metadata": {},
   "outputs": [
    {
     "data": {
      "text/plain": [
       "(np.float64(20.0),\n",
       " np.float64(36.0),\n",
       " np.float64(56.0),\n",
       " np.float64(78.0),\n",
       " np.float64(98.0))"
      ]
     },
     "execution_count": 53,
     "metadata": {},
     "output_type": "execute_result"
    }
   ],
   "source": [
    "min,q1,median,q3,max"
   ]
  },
  {
   "cell_type": "code",
   "execution_count": 54,
   "id": "c1942c19",
   "metadata": {},
   "outputs": [
    {
     "data": {
      "text/plain": [
       "np.float64(42.0)"
      ]
     },
     "execution_count": 54,
     "metadata": {},
     "output_type": "execute_result"
    }
   ],
   "source": [
    "IQR=q3-q1\n",
    "IQR"
   ]
  },
  {
   "cell_type": "code",
   "execution_count": 55,
   "id": "24e890ae",
   "metadata": {},
   "outputs": [],
   "source": [
    "lower_fence=q1-1.5*(IQR)\n",
    "upper_fence=q3+1.5*(IQR)"
   ]
  },
  {
   "cell_type": "code",
   "execution_count": 56,
   "id": "7c808ede",
   "metadata": {},
   "outputs": [
    {
     "data": {
      "text/plain": [
       "np.float64(-27.0)"
      ]
     },
     "execution_count": 56,
     "metadata": {},
     "output_type": "execute_result"
    }
   ],
   "source": [
    "lower_fence"
   ]
  },
  {
   "cell_type": "code",
   "execution_count": 57,
   "id": "99ebb489",
   "metadata": {},
   "outputs": [
    {
     "data": {
      "text/plain": [
       "np.float64(141.0)"
      ]
     },
     "execution_count": 57,
     "metadata": {},
     "output_type": "execute_result"
    }
   ],
   "source": [
    "upper_fence"
   ]
  },
  {
   "cell_type": "code",
   "execution_count": 59,
   "id": "e50d5239",
   "metadata": {},
   "outputs": [
    {
     "data": {
      "text/plain": [
       "<Axes: >"
      ]
     },
     "execution_count": 59,
     "metadata": {},
     "output_type": "execute_result"
    },
    {
     "data": {
      "image/png": "[encoded data removed]",
      "text/plain": [
       "<Figure size 640x480 with 1 Axes>"
      ]
     },
     "metadata": {},
     "output_type": "display_data"
    }
   ],
   "source": [
    "import seaborn as snb\n",
    "snb.boxplot(lst_marks)"
   ]
  },
  {
   "cell_type": "code",
   "execution_count": 60,
   "id": "f272b122",
   "metadata": {},
   "outputs": [],
   "source": [
    "lst_marks=[-21,-34,-52,20,34,45,43,76,78,89,90,36,56,75,87,65,98,156,178]"
   ]
  },
  {
   "cell_type": "code",
   "execution_count": 62,
   "id": "7c70e44d",
   "metadata": {},
   "outputs": [
    {
     "data": {
      "text/plain": [
       "<Axes: >"
      ]
     },
     "execution_count": 62,
     "metadata": {},
     "output_type": "execute_result"
    },
    {
     "data": {
      "image/png": "[encoded data removed]",
      "text/plain": [
       "<Figure size 640x480 with 1 Axes>"
      ]
     },
     "metadata": {},
     "output_type": "display_data"
    }
   ],
   "source": [
    "import seaborn as sns\n",
    "sns.boxplot(lst_marks)"
   ]
  },
  {
   "cell_type": "code",
   "execution_count": null,
   "id": "63371cf4",
   "metadata": {},
   "outputs": [],
   "source": []
  },
  {
   "cell_type": "code",
   "execution_count": null,
   "id": "5fd67a25",
   "metadata": {},
   "outputs": [],
   "source": []
  }
 ],
 "metadata": {
  "kernelspec": {
   "display_name": "Python 3",
   "language": "python",
   "name": "python3"
  },
  "language_info": {
   "codemirror_mode": {
    "name": "ipython",
    "version": 3
   },
   "file_extension": ".py",
   "mimetype": "text/x-python",
   "name": "python",
   "nbconvert_exporter": "python",
   "pygments_lexer": "ipython3",
   "version": "3.10.16"
  }
 },
 "nbformat": 4,
 "nbformat_minor": 5
}
