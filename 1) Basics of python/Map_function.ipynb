{
 "cells": [
  {
   "cell_type": "markdown",
   "id": "0adbde43",
   "metadata": {},
   "source": [
    "Map function\n",
    "\n",
    "Map in a function used for iterating the function on ever item in the list and returns the data in list object. it is used to transform the data in the list comprehensively"
   ]
  },
  {
   "cell_type": "code",
   "execution_count": 3,
   "id": "534b8dcf",
   "metadata": {},
   "outputs": [
    {
     "name": "stdout",
     "output_type": "stream",
     "text": [
      "[1, 4, 9, 16, 25]\n"
     ]
    }
   ],
   "source": [
    "numbers=[1,2,3,4,5]\n",
    "\n",
    "def square(x):\n",
    "    return x*x\n",
    "\n",
    "sqr=list(map(square,numbers))\n",
    "print(sqr)"
   ]
  },
  {
   "cell_type": "code",
   "execution_count": 5,
   "id": "ed529e99",
   "metadata": {},
   "outputs": [
    {
     "data": {
      "text/plain": [
       "[1, 4, 9, 16, 25]"
      ]
     },
     "execution_count": 5,
     "metadata": {},
     "output_type": "execute_result"
    }
   ],
   "source": [
    "## Lambda function using map\n",
    "\n",
    "list(map(lambda x:x*x,numbers))"
   ]
  },
  {
   "cell_type": "code",
   "execution_count": 7,
   "id": "c4d8a1b8",
   "metadata": {},
   "outputs": [
    {
     "data": {
      "text/plain": [
       "[5, 7, 9]"
      ]
     },
     "execution_count": 7,
     "metadata": {},
     "output_type": "execute_result"
    }
   ],
   "source": [
    "## Lambda function using map an multiple lists as input\n",
    "\n",
    "number1=[1,2,3]\n",
    "number2=[4,5,6]\n",
    "list(map(lambda x,y:x+y,number1,number2))"
   ]
  },
  {
   "cell_type": "code",
   "execution_count": 9,
   "id": "00147fd7",
   "metadata": {},
   "outputs": [
    {
     "name": "stdout",
     "output_type": "stream",
     "text": [
      "[1, 2, 3, 4]\n"
     ]
    }
   ],
   "source": [
    "## conver string to int\n",
    "\n",
    "str_list=['1','2','3','4']\n",
    "int_list=list(map(int,str_list))\n",
    "print(int_list)"
   ]
  },
  {
   "cell_type": "code",
   "execution_count": 14,
   "id": "c264d910",
   "metadata": {},
   "outputs": [
    {
     "name": "stdout",
     "output_type": "stream",
     "text": [
      "['swara', 'niraj']\n"
     ]
    }
   ],
   "source": [
    "## map using dictionary\n",
    "\n",
    "person=[\n",
    "    {'name':'swara','age':21},\n",
    "    {'name':'niraj','age':18}\n",
    "]\n",
    "def name(person):\n",
    "    return person['name']\n",
    "\n",
    "nm=list(map(name,person))\n",
    "print(nm) "
   ]
  },
  {
   "cell_type": "code",
   "execution_count": 2,
   "id": "fcd5ffaa",
   "metadata": {},
   "outputs": [
    {
     "data": {
      "text/plain": [
       "['APPLE', 'BANANA', 'MANGO']"
      ]
     },
     "execution_count": 2,
     "metadata": {},
     "output_type": "execute_result"
    }
   ],
   "source": [
    "fruits=['apple','banana','mango']\n",
    "\n",
    "list(map(str.upper, fruits))"
   ]
  },
  {
   "cell_type": "code",
   "execution_count": null,
   "id": "9ec4b530",
   "metadata": {},
   "outputs": [],
   "source": []
  }
 ],
 "metadata": {
  "kernelspec": {
   "display_name": "Python 3",
   "language": "python",
   "name": "python3"
  },
  "language_info": {
   "codemirror_mode": {
    "name": "ipython",
    "version": 3
   },
   "file_extension": ".py",
   "mimetype": "text/x-python",
   "name": "python",
   "nbconvert_exporter": "python",
   "pygments_lexer": "ipython3",
   "version": "3.10.16"
  }
 },
 "nbformat": 4,
 "nbformat_minor": 5
}
