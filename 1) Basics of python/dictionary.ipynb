{
 "cells": [
  {
   "cell_type": "markdown",
   "id": "36ca4646",
   "metadata": {},
   "source": [
    "Dictionaries\n",
    "\n",
    "Dictionaries are unordered collection of items. They store the data in key-value pair. Keys must be unique and immutable (e.g., string,numbers, or tuples), while values can be of any type.\n",
    "Dictionaries are mutable\n"
   ]
  },
  {
   "cell_type": "code",
   "execution_count": 2,
   "id": "e9d47245",
   "metadata": {},
   "outputs": [
    {
     "name": "stdout",
     "output_type": "stream",
     "text": [
      "<class 'dict'>\n"
     ]
    }
   ],
   "source": [
    "my_dictionary={}\n",
    "print(type(my_dictionary))"
   ]
  },
  {
   "cell_type": "code",
   "execution_count": 3,
   "id": "dfd14da6",
   "metadata": {},
   "outputs": [
    {
     "name": "stdout",
     "output_type": "stream",
     "text": [
      "<class 'dict'>\n"
     ]
    }
   ],
   "source": [
    "a=dict()\n",
    "print(type(a))"
   ]
  },
  {
   "cell_type": "code",
   "execution_count": 4,
   "id": "69dc33b3",
   "metadata": {},
   "outputs": [
    {
     "name": "stdout",
     "output_type": "stream",
     "text": [
      "{'name': 'swara', 'age': '21', 'place': 'pune'}\n"
     ]
    }
   ],
   "source": [
    "## creating a dictionary\n",
    "\n",
    "my_dictionary={\"name\":\"swara\",\"age\":\"21\",\"place\":\"pune\"}\n",
    "print(my_dictionary)"
   ]
  },
  {
   "cell_type": "code",
   "execution_count": 5,
   "id": "e2ba37fa",
   "metadata": {},
   "outputs": [
    {
     "name": "stdout",
     "output_type": "stream",
     "text": [
      "21\n",
      "swara\n",
      "\n"
     ]
    }
   ],
   "source": [
    "## accessing the elements\n",
    "print(my_dictionary[\"age\"])\n",
    "print(my_dictionary[\"name\"])\n",
    "\n",
    "print()\n"
   ]
  },
  {
   "cell_type": "code",
   "execution_count": 6,
   "id": "8bceb959",
   "metadata": {},
   "outputs": [
    {
     "name": "stdout",
     "output_type": "stream",
     "text": [
      "swara\n",
      "21\n",
      "not available\n"
     ]
    }
   ],
   "source": [
    "print(my_dictionary.get(\"name\"))\n",
    "print(my_dictionary.get(\"age\"))\n",
    "print(my_dictionary.get(\"date\",\"not available\")) ## handling the unknown kes in dictionary"
   ]
  },
  {
   "cell_type": "code",
   "execution_count": 7,
   "id": "45474b1b",
   "metadata": {},
   "outputs": [
    {
     "name": "stdout",
     "output_type": "stream",
     "text": [
      "{'name': 'swara', 'age': 23, 'place': 'pune'}\n",
      "{'name': 'swara', 'age': 23, 'place': 'pune', 'year': 2004}\n"
     ]
    }
   ],
   "source": [
    "## modifying the elements\n",
    "\n",
    "my_dictionary[\"age\"]=23\n",
    "print(my_dictionary)\n",
    "\n",
    "my_dictionary[\"year\"]=2004\n",
    "print(my_dictionary)\n"
   ]
  },
  {
   "cell_type": "code",
   "execution_count": 8,
   "id": "0bce74f8",
   "metadata": {},
   "outputs": [
    {
     "name": "stdout",
     "output_type": "stream",
     "text": [
      "{'name': 'swara', 'age': 23, 'place': 'pune'}\n"
     ]
    }
   ],
   "source": [
    "## deleting the elements\n",
    "\n",
    "del my_dictionary[\"year\"]\n",
    "print(my_dictionary)"
   ]
  },
  {
   "cell_type": "code",
   "execution_count": 10,
   "id": "079bfc82",
   "metadata": {},
   "outputs": [
    {
     "name": "stdout",
     "output_type": "stream",
     "text": [
      "{'name': 'swara', 'age': 23, 'place': 'pune'}\n",
      "{'name': 'swara', 'age': 23, 'place': 'pune'}\n"
     ]
    }
   ],
   "source": [
    "## shallow copy\n",
    "\n",
    "my_copy=my_dictionary\n",
    "print(my_dictionary)\n",
    "print(my_copy)"
   ]
  },
  {
   "cell_type": "code",
   "execution_count": null,
   "id": "be307fb2",
   "metadata": {},
   "outputs": [
    {
     "name": "stdout",
     "output_type": "stream",
     "text": [
      "{'name': 'Swarangi', 'age': 23, 'place': 'pune'}\n",
      "{'name': 'Swarangi', 'age': 23, 'place': 'pune'}\n"
     ]
    }
   ],
   "source": [
    "my_dictionary[\"name\"]='Swarangi'\n",
    "print(my_dictionary)\n",
    "print(my_copy)\n",
    "\n",
    "## Changes occur in both the variables. To avoid this we use shallow copy"
   ]
  },
  {
   "cell_type": "code",
   "execution_count": null,
   "id": "c98c0533",
   "metadata": {},
   "outputs": [
    {
     "name": "stdout",
     "output_type": "stream",
     "text": [
      "{'name': 'swara', 'age': 23, 'place': 'pune'}\n",
      "{'name': 'Swarangi', 'age': 23, 'place': 'pune'}\n"
     ]
    }
   ],
   "source": [
    "my_copy1=my_dictionary.copy() ## .copy() function used for shallow copy to create another addressed variable and make changes in the first and not the second variable\n",
    "my_dictionary[\"name\"]='swara'\n",
    "print(my_dictionary)\n",
    "print(my_copy1)\n"
   ]
  },
  {
   "cell_type": "code",
   "execution_count": 17,
   "id": "74ce7ed2",
   "metadata": {},
   "outputs": [
    {
     "name": "stdout",
     "output_type": "stream",
     "text": [
      "name\n",
      "age\n",
      "place\n"
     ]
    }
   ],
   "source": [
    "## Iteration over the dictionaries \n",
    "\n",
    "for key in my_dictionary.keys():\n",
    "    print(key)\n"
   ]
  },
  {
   "cell_type": "code",
   "execution_count": 18,
   "id": "7032dc64",
   "metadata": {},
   "outputs": [
    {
     "name": "stdout",
     "output_type": "stream",
     "text": [
      "swara\n",
      "23\n",
      "pune\n"
     ]
    }
   ],
   "source": [
    "for value in my_dictionary.values():\n",
    "    print(value)"
   ]
  },
  {
   "cell_type": "code",
   "execution_count": 19,
   "id": "0c1b8605",
   "metadata": {},
   "outputs": [
    {
     "name": "stdout",
     "output_type": "stream",
     "text": [
      "('name', 'swara')\n",
      "('age', 23)\n",
      "('place', 'pune')\n"
     ]
    }
   ],
   "source": [
    "for item in my_dictionary.items():\n",
    "    print(item)"
   ]
  },
  {
   "cell_type": "code",
   "execution_count": 26,
   "id": "4620df5d",
   "metadata": {},
   "outputs": [
    {
     "name": "stdout",
     "output_type": "stream",
     "text": [
      "{'student1': {'name': 'swara', 'age': 21}, 'student2': {'name': 'niraj', 'age': 17}}\n"
     ]
    }
   ],
   "source": [
    "## Nested dictionaries \n",
    "\n",
    "students={\n",
    "    \"student1\":{\"name\":'swara',\"age\":21},\n",
    "    \"student2\":{\"name\":'niraj',\"age\":17}\n",
    "}\n",
    "\n",
    "print(students)"
   ]
  },
  {
   "cell_type": "code",
   "execution_count": null,
   "id": "538ca597",
   "metadata": {},
   "outputs": [
    {
     "name": "stdout",
     "output_type": "stream",
     "text": [
      "21\n",
      "niraj\n"
     ]
    }
   ],
   "source": [
    "## Accessing over the nested dictionaries\n",
    "print(students[\"student1\"][\"age\"])\n",
    "print(students[\"student2\"][\"name\"])"
   ]
  },
  {
   "cell_type": "code",
   "execution_count": null,
   "id": "f55fec91",
   "metadata": {},
   "outputs": [
    {
     "name": "stdout",
     "output_type": "stream",
     "text": [
      "student1:{'name': 'swara', 'age': 21}\n",
      "student2:{'name': 'niraj', 'age': 17}\n"
     ]
    }
   ],
   "source": [
    "## Iterating \n",
    "for student_id,student_info in students.items():\n",
    "    print(f\"{student_id}:{student_info}\")"
   ]
  },
  {
   "cell_type": "code",
   "execution_count": 35,
   "id": "fdca595a",
   "metadata": {},
   "outputs": [
    {
     "name": "stdout",
     "output_type": "stream",
     "text": [
      "student1:{'name': 'swara', 'age': 21}\n",
      "name:swara\n",
      "age:21\n",
      "student2:{'name': 'niraj', 'age': 17}\n",
      "name:niraj\n",
      "age:17\n"
     ]
    }
   ],
   "source": [
    "for student_id,student_info in students.items():\n",
    "    print(f\"{student_id}:{student_info}\")\n",
    "    for key,value in student_info.items():\n",
    "        print(f\"{key}:{value}\")"
   ]
  },
  {
   "cell_type": "code",
   "execution_count": 37,
   "id": "e6f0d304",
   "metadata": {},
   "outputs": [
    {
     "name": "stdout",
     "output_type": "stream",
     "text": [
      "{0: 0, 1: 1, 2: 4, 3: 9, 4: 16}\n"
     ]
    }
   ],
   "source": [
    "## Dictionary comprehension\n",
    "\n",
    "student={x:x**2 for x in range(5)}\n",
    "print(student)"
   ]
  },
  {
   "cell_type": "code",
   "execution_count": 38,
   "id": "18bc933e",
   "metadata": {},
   "outputs": [
    {
     "name": "stdout",
     "output_type": "stream",
     "text": [
      "{0: 0, 2: 4, 4: 16}\n"
     ]
    }
   ],
   "source": [
    "## conditional comprenhension\n",
    "\n",
    "student={x:x**2 for x in range(5) if x%2==0}\n",
    "print(student)\n"
   ]
  },
  {
   "cell_type": "code",
   "execution_count": 39,
   "id": "debf5b09",
   "metadata": {},
   "outputs": [
    {
     "name": "stdout",
     "output_type": "stream",
     "text": [
      "{1: 2, 2: 3, 3: 2, 4: 4}\n"
     ]
    }
   ],
   "source": [
    "## Practical implementations\n",
    "\n",
    "## Count the no of values in the list\n",
    "\n",
    "numbers=[1,1,2,2,2,3,3,4,4,4,4]\n",
    "freq={}\n",
    "\n",
    "for number in numbers:\n",
    "    if number in freq:\n",
    "        freq[number]+=1\n",
    "    else:\n",
    "        freq[number]=1\n",
    "print(freq)         \n",
    "\n",
    "\n",
    "\n"
   ]
  },
  {
   "cell_type": "code",
   "execution_count": null,
   "id": "9d8badf7",
   "metadata": {},
   "outputs": [
    {
     "name": "stdout",
     "output_type": "stream",
     "text": [
      "{'a': 1, 'b': 3, 'c': 4}\n"
     ]
    }
   ],
   "source": [
    "## merge two dictionaries\n",
    "\n",
    "dict1={\"a\":1,\"b\":2}\n",
    "dict2={\"b\":3,\"c\":4}\n",
    "merge={**dict1,**dict2} ## ** is used in dict for merging \n",
    "print(merge)"
   ]
  },
  {
   "cell_type": "code",
   "execution_count": null,
   "id": "753f1e6a",
   "metadata": {},
   "outputs": [],
   "source": []
  }
 ],
 "metadata": {
  "kernelspec": {
   "display_name": "Python 3",
   "language": "python",
   "name": "python3"
  },
  "language_info": {
   "codemirror_mode": {
    "name": "ipython",
    "version": 3
   },
   "file_extension": ".py",
   "mimetype": "text/x-python",
   "name": "python",
   "nbconvert_exporter": "python",
   "pygments_lexer": "ipython3",
   "version": "3.10.16"
  }
 },
 "nbformat": 4,
 "nbformat_minor": 5
}
