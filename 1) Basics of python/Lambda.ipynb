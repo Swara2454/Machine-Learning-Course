{
 "cells": [
  {
   "cell_type": "markdown",
   "id": "86435c4a",
   "metadata": {},
   "source": [
    "Lambda Function\n",
    "\n",
    "Lambda function is a small anonymous function (a function without a name) written using lambda keyword. They can have number of argunments but only one expression. They are commonly used for short operations or used for high order expressions."
   ]
  },
  {
   "cell_type": "code",
   "execution_count": 3,
   "id": "6e82e0ba",
   "metadata": {},
   "outputs": [
    {
     "data": {
      "text/plain": [
       "<function __main__.<lambda>(arguments)>"
      ]
     },
     "execution_count": 3,
     "metadata": {},
     "output_type": "execute_result"
    }
   ],
   "source": [
    "##syntax\n",
    "\n",
    "lambda arguments: expressions"
   ]
  },
  {
   "cell_type": "code",
   "execution_count": 4,
   "id": "3e2c5b58",
   "metadata": {},
   "outputs": [
    {
     "data": {
      "text/plain": [
       "5"
      ]
     },
     "execution_count": 4,
     "metadata": {},
     "output_type": "execute_result"
    }
   ],
   "source": [
    "def add(a,b):\n",
    "    return a+b\n",
    "\n",
    "add(2,3)\n"
   ]
  },
  {
   "cell_type": "code",
   "execution_count": 9,
   "id": "fbb6a032",
   "metadata": {},
   "outputs": [
    {
     "name": "stdout",
     "output_type": "stream",
     "text": [
      "<function <lambda> at 0x0000028AFB1AA560>\n"
     ]
    }
   ],
   "source": [
    "add1=lambda a,b:a+b\n",
    "print(add1)"
   ]
  },
  {
   "cell_type": "code",
   "execution_count": 10,
   "id": "49c05242",
   "metadata": {},
   "outputs": [
    {
     "data": {
      "text/plain": [
       "5"
      ]
     },
     "execution_count": 10,
     "metadata": {},
     "output_type": "execute_result"
    }
   ],
   "source": [
    "add1(2,3)"
   ]
  },
  {
   "cell_type": "code",
   "execution_count": 14,
   "id": "c08dfcc5",
   "metadata": {},
   "outputs": [
    {
     "data": {
      "text/plain": [
       "True"
      ]
     },
     "execution_count": 14,
     "metadata": {},
     "output_type": "execute_result"
    }
   ],
   "source": [
    "def even(num):\n",
    "    if(num%2==0):\n",
    "        return True\n",
    "\n",
    "even(20)"
   ]
  },
  {
   "cell_type": "code",
   "execution_count": 15,
   "id": "d8e11085",
   "metadata": {},
   "outputs": [
    {
     "data": {
      "text/plain": [
       "True"
      ]
     },
     "execution_count": 15,
     "metadata": {},
     "output_type": "execute_result"
    }
   ],
   "source": [
    "even=lambda num:num%2==0\n",
    "even(20)"
   ]
  },
  {
   "cell_type": "code",
   "execution_count": null,
   "id": "01f01aac",
   "metadata": {},
   "outputs": [],
   "source": []
  }
 ],
 "metadata": {
  "kernelspec": {
   "display_name": "Python 3",
   "language": "python",
   "name": "python3"
  },
  "language_info": {
   "codemirror_mode": {
    "name": "ipython",
    "version": 3
   },
   "file_extension": ".py",
   "mimetype": "text/x-python",
   "name": "python",
   "nbconvert_exporter": "python",
   "pygments_lexer": "ipython3",
   "version": "3.10.16"
  }
 },
 "nbformat": 4,
 "nbformat_minor": 5
}
