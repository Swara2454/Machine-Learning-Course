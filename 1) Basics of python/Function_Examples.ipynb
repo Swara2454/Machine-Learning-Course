{
 "cells": [
  {
   "cell_type": "code",
   "execution_count": 3,
   "id": "46d261bb",
   "metadata": {},
   "outputs": [
    {
     "data": {
      "text/plain": [
       "25.0"
      ]
     },
     "execution_count": 3,
     "metadata": {},
     "output_type": "execute_result"
    }
   ],
   "source": [
    "## Program to convert temprature between celcious and farahniet\n",
    "\n",
    "def temp_converter(temp,unit):\n",
    "    if unit=='C':\n",
    "        return temp * 9/5 +32\n",
    "    elif unit=='F':\n",
    "        return (temp-32) * 5/9\n",
    "    else:\n",
    "        return None\n",
    "\n",
    "temp_converter(25,'C')\n",
    "temp_converter(77,'F')\n"
   ]
  },
  {
   "cell_type": "code",
   "execution_count": 9,
   "id": "897c2692",
   "metadata": {},
   "outputs": [
    {
     "data": {
      "text/plain": [
       "True"
      ]
     },
     "execution_count": 9,
     "metadata": {},
     "output_type": "execute_result"
    }
   ],
   "source": [
    "## Program to check if the password is strong \n",
    "\n",
    "def pass_checker(password):\n",
    "    if len(password)<8:\n",
    "        return False\n",
    "    if not any(char.isdigit() for char in password):\n",
    "        return False\n",
    "    if not any(char.islower() for char in password):\n",
    "        return False\n",
    "    if not any(char.isupper() for char in password):\n",
    "        return False\n",
    "    if not any(char in '!@#$%^&*' for char in password):\n",
    "        return False\n",
    "    else:\n",
    "        return True\n",
    "\n",
    "pass_checker('Swarangi@24')\n",
    "\n",
    "\n"
   ]
  },
  {
   "cell_type": "code",
   "execution_count": 13,
   "id": "8d1ee167",
   "metadata": {},
   "outputs": [
    {
     "data": {
      "text/plain": [
       "120"
      ]
     },
     "execution_count": 13,
     "metadata": {},
     "output_type": "execute_result"
    }
   ],
   "source": [
    "## program to find the total cost if items in the shopping cart\n",
    "\n",
    "def total_cost(cart):\n",
    "    total=0\n",
    "    for item in cart:\n",
    "        total+=item['price']*item['qty']\n",
    "    return total    \n",
    "\n",
    "cart=[\n",
    "    {'name':'Apple', 'price':20, 'qty':2},\n",
    "    {'name':'Banana', 'price':10, 'qty':3},\n",
    "    {'name':'Pinapple', 'price':50, 'qty':1}\n",
    "]\n",
    "\n",
    "total_cost(cart)"
   ]
  },
  {
   "cell_type": "code",
   "execution_count": 3,
   "id": "97fd68b1",
   "metadata": {},
   "outputs": [
    {
     "name": "stdout",
     "output_type": "stream",
     "text": [
      "True\n",
      "False\n"
     ]
    }
   ],
   "source": [
    "## program to check if the given string is palindrome\n",
    "\n",
    "def palindrome(s):\n",
    "    s=s.lower().replace(\" \",\"\")\n",
    "    return s==s[::-1]\n",
    "\n",
    "print(palindrome(\"A man a plan a canal Panama\"))\n",
    "print(palindrome(\"Hello\"))"
   ]
  },
  {
   "cell_type": "code",
   "execution_count": 6,
   "id": "231cf4fa",
   "metadata": {},
   "outputs": [
    {
     "name": "stdout",
     "output_type": "stream",
     "text": [
      "720\n"
     ]
    }
   ],
   "source": [
    "## program to find the factorial of the given no\n",
    "\n",
    "def factorial(n):\n",
    "    if n==0:\n",
    "        return 1\n",
    "    else:\n",
    "        return n * factorial(n-1)\n",
    "\n",
    "print(factorial(6))\n"
   ]
  },
  {
   "cell_type": "code",
   "execution_count": 9,
   "id": "3e779322",
   "metadata": {},
   "outputs": [
    {
     "name": "stdout",
     "output_type": "stream",
     "text": [
      "{'hello': 2, 'this': 2, 'is': 2, 'me': 2, 'all': 1, 'swarangi': 1}\n"
     ]
    }
   ],
   "source": [
    "## program to print the no of words present in the file \n",
    "\n",
    "def word_count(filepath):\n",
    "    word_cnt={}\n",
    "    with open(filepath,'r') as file:\n",
    "        for line in file:\n",
    "            words=line.split()\n",
    "            for word in words:\n",
    "                word=word.lower().strip('.,!@#$%^&*:')\n",
    "                word_cnt[word]=word_cnt.get(word,0)+1\n",
    "    \n",
    "    return word_cnt\n",
    "\n",
    "filepath='sample.txt'\n",
    "word_fre=word_count(filepath)\n",
    "print(word_fre)\n"
   ]
  },
  {
   "cell_type": "code",
   "execution_count": null,
   "id": "47789237",
   "metadata": {},
   "outputs": [],
   "source": []
  }
 ],
 "metadata": {
  "kernelspec": {
   "display_name": "Python 3",
   "language": "python",
   "name": "python3"
  },
  "language_info": {
   "codemirror_mode": {
    "name": "ipython",
    "version": 3
   },
   "file_extension": ".py",
   "mimetype": "text/x-python",
   "name": "python",
   "nbconvert_exporter": "python",
   "pygments_lexer": "ipython3",
   "version": "3.10.16"
  }
 },
 "nbformat": 4,
 "nbformat_minor": 5
}
