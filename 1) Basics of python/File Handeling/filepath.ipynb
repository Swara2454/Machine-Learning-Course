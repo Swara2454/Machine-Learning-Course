{
 "cells": [
  {
   "cell_type": "code",
   "execution_count": null,
   "id": "78640d4e",
   "metadata": {},
   "outputs": [
    {
     "name": "stdout",
     "output_type": "stream",
     "text": [
      "d:\\DataScience\\1) Basics of python\\File Handeling\n"
     ]
    }
   ],
   "source": [
    "import os\n",
    "\n",
    "print(os.getcwd()) ## current workind directory"
   ]
  },
  {
   "cell_type": "code",
   "execution_count": 9,
   "id": "5380394d",
   "metadata": {},
   "outputs": [
    {
     "name": "stdout",
     "output_type": "stream",
     "text": [
      "new directory is created\n"
     ]
    }
   ],
   "source": [
    "## making new directory\n",
    "new_dir='package'\n",
    "os.mkdir(new_dir)\n",
    "print('new directory is created')"
   ]
  },
  {
   "cell_type": "code",
   "execution_count": 11,
   "id": "09eae0b3",
   "metadata": {},
   "outputs": [
    {
     "name": "stdout",
     "output_type": "stream",
     "text": [
      "['destination.txt', 'example.txt', 'filehandeling.ipynb', 'filepath.ipynb', 'package', 'sample.txt']\n"
     ]
    }
   ],
   "source": [
    "## List all the directories\n",
    "print(os.listdir())"
   ]
  },
  {
   "cell_type": "code",
   "execution_count": 12,
   "id": "1521e4fd",
   "metadata": {},
   "outputs": [
    {
     "name": "stdout",
     "output_type": "stream",
     "text": [
      "new_dir\\file.txt\n"
     ]
    }
   ],
   "source": [
    "##Joining the path \n",
    "\n",
    "dir_name=\"new_dir\"\n",
    "file_name=\"file.txt\"\n",
    "print(os.path.join(dir_name,file_name))"
   ]
  },
  {
   "cell_type": "code",
   "execution_count": 15,
   "id": "c070d8ad",
   "metadata": {},
   "outputs": [
    {
     "name": "stdout",
     "output_type": "stream",
     "text": [
      "d:\\DataScience\\1) Basics of python\\File Handeling\\new_dir\\file.txt\n"
     ]
    }
   ],
   "source": [
    "dir_name=\"new_dir\"\n",
    "file_name=\"file.txt\"\n",
    "print(os.path.join(os.getcwd(),dir_name,file_name))"
   ]
  },
  {
   "cell_type": "code",
   "execution_count": 16,
   "id": "ecc19470",
   "metadata": {},
   "outputs": [
    {
     "name": "stdout",
     "output_type": "stream",
     "text": [
      "path exists\n"
     ]
    }
   ],
   "source": [
    "path=\"example.txt\"\n",
    "if os.path.exists(path):\n",
    "    print(\"path exists\")\n",
    "else:\n",
    "    print(\"dosent exists\")"
   ]
  },
  {
   "cell_type": "code",
   "execution_count": 17,
   "id": "5ffc1d49",
   "metadata": {},
   "outputs": [
    {
     "name": "stdout",
     "output_type": "stream",
     "text": [
      "It is a file\n"
     ]
    }
   ],
   "source": [
    "path=\"example.txt\"\n",
    "if os.path.isfile(path):\n",
    "    print(\"It is a file\")\n",
    "elif os.path.isdir(path):\n",
    "    print(\"it is a directory\")\n",
    "else:\n",
    "    print(\"dosent exists\")\n",
    "    "
   ]
  },
  {
   "cell_type": "code",
   "execution_count": 18,
   "id": "0d516c34",
   "metadata": {},
   "outputs": [
    {
     "name": "stdout",
     "output_type": "stream",
     "text": [
      "d:\\DataScience\\1) Basics of python\\File Handeling\\example.txt\n"
     ]
    }
   ],
   "source": [
    "## getting absolute path\n",
    "\n",
    "relative_path='example.txt'\n",
    "absolute_path=os.path.abspath(relative_path)\n",
    "print(absolute_path)"
   ]
  },
  {
   "cell_type": "code",
   "execution_count": null,
   "id": "8e7e994a",
   "metadata": {},
   "outputs": [],
   "source": []
  }
 ],
 "metadata": {
  "kernelspec": {
   "display_name": "Python 3",
   "language": "python",
   "name": "python3"
  },
  "language_info": {
   "codemirror_mode": {
    "name": "ipython",
    "version": 3
   },
   "file_extension": ".py",
   "mimetype": "text/x-python",
   "name": "python",
   "nbconvert_exporter": "python",
   "pygments_lexer": "ipython3",
   "version": "3.10.16"
  }
 },
 "nbformat": 4,
 "nbformat_minor": 5
}
