{
 "cells": [
  {
   "cell_type": "code",
   "execution_count": 40,
   "id": "c72b1924",
   "metadata": {},
   "outputs": [
    {
     "name": "stdout",
     "output_type": "stream",
     "text": [
      "\n"
     ]
    }
   ],
   "source": [
    "## Only read the content\n",
    "with open('example.txt','r') as file:\n",
    "    content=file.read()\n",
    "    print(content)"
   ]
  },
  {
   "cell_type": "code",
   "execution_count": 41,
   "id": "62789438",
   "metadata": {},
   "outputs": [],
   "source": [
    "## to read line by line \n",
    "with open('example.txt','r') as file:\n",
    "    for line in file:\n",
    "        print(line)   "
   ]
  },
  {
   "cell_type": "code",
   "execution_count": 42,
   "id": "783a8d52",
   "metadata": {},
   "outputs": [],
   "source": [
    "##write the content(override)\n",
    "\n",
    "with open('example.txt','w') as file:\n",
    "    file.write('i am good \\nhow are you doing')"
   ]
  },
  {
   "cell_type": "code",
   "execution_count": 43,
   "id": "71343256",
   "metadata": {},
   "outputs": [],
   "source": [
    "## Append lines \n",
    "\n",
    "with open('example.txt','a') as file:\n",
    "    file.write('\\ni study in dy patil clg of engg')"
   ]
  },
  {
   "cell_type": "code",
   "execution_count": 44,
   "id": "824de250",
   "metadata": {},
   "outputs": [],
   "source": [
    "## Write list of lines to the file (append)\n",
    "\n",
    "lines=['\\nI am in class BE \\n','My branch is AI and DS']\n",
    "with open('example.txt','a') as file:\n",
    "    file.writelines(lines)\n"
   ]
  },
  {
   "cell_type": "code",
   "execution_count": 45,
   "id": "7425ba8f",
   "metadata": {},
   "outputs": [],
   "source": [
    "## binary file\n",
    "## write to binary file\n",
    "data=b'\\x00\\x01\\x02\\x03\\x04'\n",
    "with open('example.txt','wb') as file:\n",
    "    file.write(data) "
   ]
  },
  {
   "cell_type": "code",
   "execution_count": 46,
   "id": "793bc08c",
   "metadata": {},
   "outputs": [
    {
     "name": "stdout",
     "output_type": "stream",
     "text": [
      "b'\\x00\\x01\\x02\\x03\\x04'\n"
     ]
    }
   ],
   "source": [
    "## reda to binary file\n",
    "with open('example.txt','rb') as file:\n",
    "    content=file.read()\n",
    "    print(content)"
   ]
  },
  {
   "cell_type": "code",
   "execution_count": 47,
   "id": "7edf2ea2",
   "metadata": {},
   "outputs": [],
   "source": [
    "## read a content from source and write to the destinations file\n",
    "\n",
    "with open('example.txt','r') as source:\n",
    "    content=source.read()\n",
    "\n",
    "with open('destination.txt','w') as destination:\n",
    "    destination.write(content)"
   ]
  },
  {
   "cell_type": "code",
   "execution_count": 54,
   "id": "cd864167",
   "metadata": {},
   "outputs": [
    {
     "name": "stdout",
     "output_type": "stream",
     "text": [
      "['my name is swarangi']\n"
     ]
    }
   ],
   "source": [
    "with open('sample.txt','w+') as file:\n",
    "    file.write('my name is swarangi')\n",
    "    \n",
    "    file.seek(0) ## to move the curser to the first line \n",
    "    \n",
    "    content=file.readlines()\n",
    "    print(content)\n"
   ]
  },
  {
   "cell_type": "code",
   "execution_count": null,
   "id": "fdc73e6c",
   "metadata": {},
   "outputs": [],
   "source": []
  }
 ],
 "metadata": {
  "kernelspec": {
   "display_name": "Python 3",
   "language": "python",
   "name": "python3"
  },
  "language_info": {
   "codemirror_mode": {
    "name": "ipython",
    "version": 3
   },
   "file_extension": ".py",
   "mimetype": "text/x-python",
   "name": "python",
   "nbconvert_exporter": "python",
   "pygments_lexer": "ipython3",
   "version": "3.10.16"
  }
 },
 "nbformat": 4,
 "nbformat_minor": 5
}
