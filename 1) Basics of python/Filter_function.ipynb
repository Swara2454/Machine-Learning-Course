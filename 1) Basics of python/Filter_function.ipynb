{
 "cells": [
  {
   "cell_type": "markdown",
   "id": "44177dd3",
   "metadata": {},
   "source": [
    "Filter function\n",
    "\n",
    "Filter is a function which is used to filter out the iterators from the iterable based on the conditions"
   ]
  },
  {
   "cell_type": "code",
   "execution_count": 4,
   "id": "236c4c36",
   "metadata": {},
   "outputs": [
    {
     "name": "stdout",
     "output_type": "stream",
     "text": [
      "[2, 4, 6, 8]\n"
     ]
    }
   ],
   "source": [
    "num=[1,2,3,4,5,6,7,8]\n",
    "\n",
    "def even(num):\n",
    "    if num%2==0:\n",
    "        return True\n",
    "\n",
    "evens=list(filter(even,num))\n",
    "print(evens)"
   ]
  },
  {
   "cell_type": "code",
   "execution_count": 5,
   "id": "498f4df4",
   "metadata": {},
   "outputs": [
    {
     "name": "stdout",
     "output_type": "stream",
     "text": [
      "[2, 4, 6, 8]\n"
     ]
    }
   ],
   "source": [
    "## filter with lambda function\n",
    "\n",
    "print(list(filter(lambda x:x%2==0,num)))"
   ]
  },
  {
   "cell_type": "code",
   "execution_count": 7,
   "id": "2c4fa422",
   "metadata": {},
   "outputs": [
    {
     "name": "stdout",
     "output_type": "stream",
     "text": [
      "[20, 30, 40]\n"
     ]
    }
   ],
   "source": [
    "## multiple conditions\n",
    "\n",
    "numbers=[20,30,40,1,2,43,23]\n",
    "\n",
    "print(list(filter(lambda x:x%2==0 and x>10, numbers)))"
   ]
  },
  {
   "cell_type": "code",
   "execution_count": 13,
   "id": "8ef81215",
   "metadata": {},
   "outputs": [
    {
     "name": "stdout",
     "output_type": "stream",
     "text": [
      "[{'name': 'swara', 'age': 21}]\n"
     ]
    }
   ],
   "source": [
    "## filter using dict\n",
    "\n",
    "person=[\n",
    "    {'name':'swara','age':21},\n",
    "    {'name':'niraj','age':18}\n",
    "]\n",
    "\n",
    "def age(person):\n",
    "    return person['age']>20\n",
    "\n",
    "age_greater_then_twenty=list(filter(age,person))\n",
    "print(age_greater_then_twenty)"
   ]
  },
  {
   "cell_type": "code",
   "execution_count": null,
   "id": "f124ee74",
   "metadata": {},
   "outputs": [],
   "source": []
  }
 ],
 "metadata": {
  "kernelspec": {
   "display_name": "Python 3",
   "language": "python",
   "name": "python3"
  },
  "language_info": {
   "codemirror_mode": {
    "name": "ipython",
    "version": 3
   },
   "file_extension": ".py",
   "mimetype": "text/x-python",
   "name": "python",
   "nbconvert_exporter": "python",
   "pygments_lexer": "ipython3",
   "version": "3.10.16"
  }
 },
 "nbformat": 4,
 "nbformat_minor": 5
}
