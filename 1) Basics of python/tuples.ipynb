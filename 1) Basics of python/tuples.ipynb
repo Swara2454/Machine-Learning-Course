{
 "cells": [
  {
   "cell_type": "markdown",
   "id": "c6e334f7",
   "metadata": {},
   "source": [
    "Tuples\n",
    "\n",
    "Tuples are ordered and immutable collections of items \n"
   ]
  },
  {
   "cell_type": "code",
   "execution_count": 2,
   "id": "fdbf179f",
   "metadata": {},
   "outputs": [
    {
     "name": "stdout",
     "output_type": "stream",
     "text": [
      "<class 'tuple'>\n"
     ]
    }
   ],
   "source": [
    "a=()\n",
    "print(type(a))\n"
   ]
  },
  {
   "cell_type": "code",
   "execution_count": null,
   "id": "55803337",
   "metadata": {},
   "outputs": [
    {
     "name": "stdout",
     "output_type": "stream",
     "text": [
      "<class 'list'>\n",
      "<class 'tuple'>\n"
     ]
    }
   ],
   "source": [
    "## Creating list and tuple using functions\n",
    "\n",
    "lst=list()\n",
    "print(type(lst))\n",
    "lst2=tuple()\n",
    "print(type(lst2))"
   ]
  },
  {
   "cell_type": "code",
   "execution_count": 6,
   "id": "3b739b33",
   "metadata": {},
   "outputs": [
    {
     "name": "stdout",
     "output_type": "stream",
     "text": [
      "<class 'tuple'>\n",
      "<class 'list'>\n"
     ]
    }
   ],
   "source": [
    "## Changing from list to tuple and vise versa\n",
    "\n",
    "lst=tuple([1,2,3,4,5])\n",
    "print(type(lst))\n",
    "lst2=list((1,2,3,4,5))\n",
    "print(type(lst2))"
   ]
  },
  {
   "cell_type": "code",
   "execution_count": 7,
   "id": "95a74592",
   "metadata": {},
   "outputs": [
    {
     "name": "stdout",
     "output_type": "stream",
     "text": [
      "(1, 2, 3, 4, 5, 1, 'hello', 1.23, True)\n"
     ]
    }
   ],
   "source": [
    "## concatination \n",
    "\n",
    "a=(1,2,3,4,5)\n",
    "b=(1,'hello',1.23,True)\n",
    "print(a+b)"
   ]
  },
  {
   "cell_type": "code",
   "execution_count": 8,
   "id": "ee650970",
   "metadata": {},
   "outputs": [
    {
     "data": {
      "text/plain": [
       "(1, 2, 3, 4, 5, 1, 2, 3, 4, 5, 1, 2, 3, 4, 5)"
      ]
     },
     "execution_count": 8,
     "metadata": {},
     "output_type": "execute_result"
    }
   ],
   "source": [
    "a*3"
   ]
  },
  {
   "cell_type": "code",
   "execution_count": 11,
   "id": "0f14285b",
   "metadata": {},
   "outputs": [
    {
     "name": "stdout",
     "output_type": "stream",
     "text": [
      "[1, 2, 3, 4]\n",
      "[1, 'abc', 3, 4]\n"
     ]
    }
   ],
   "source": [
    "## Immutable nature of tuple i.e tuples cannot be chnaged\n",
    "\n",
    "lst=[1,2,3,4]\n",
    "print(lst)\n",
    "lst[1]='abc'\n",
    "print(lst)\n"
   ]
  },
  {
   "cell_type": "code",
   "execution_count": 14,
   "id": "17e4f401",
   "metadata": {},
   "outputs": [
    {
     "name": "stdout",
     "output_type": "stream",
     "text": [
      "(1, 2, 3, 4, 5)\n"
     ]
    },
    {
     "ename": "TypeError",
     "evalue": "'tuple' object does not support item assignment",
     "output_type": "error",
     "traceback": [
      "\u001b[1;31m---------------------------------------------------------------------------\u001b[0m",
      "\u001b[1;31mTypeError\u001b[0m                                 Traceback (most recent call last)",
      "Cell \u001b[1;32mIn[14], line 3\u001b[0m\n\u001b[0;32m      1\u001b[0m tup\u001b[38;5;241m=\u001b[39m(\u001b[38;5;241m1\u001b[39m,\u001b[38;5;241m2\u001b[39m,\u001b[38;5;241m3\u001b[39m,\u001b[38;5;241m4\u001b[39m,\u001b[38;5;241m5\u001b[39m)\n\u001b[0;32m      2\u001b[0m \u001b[38;5;28mprint\u001b[39m(tup)\n\u001b[1;32m----> 3\u001b[0m \u001b[43mtup\u001b[49m\u001b[43m[\u001b[49m\u001b[38;5;241;43m1\u001b[39;49m\u001b[43m]\u001b[49m\u001b[38;5;241m=\u001b[39m\u001b[38;5;124m'\u001b[39m\u001b[38;5;124mabc\u001b[39m\u001b[38;5;124m'\u001b[39m \u001b[38;5;66;03m## Immutable \u001b[39;00m\n\u001b[0;32m      4\u001b[0m \u001b[38;5;28mprint\u001b[39m(tup)\n",
      "\u001b[1;31mTypeError\u001b[0m: 'tuple' object does not support item assignment"
     ]
    }
   ],
   "source": [
    "tup=(1,2,3,4,5)\n",
    "print(tup)\n",
    "tup[1]='abc' ## Immutable \n",
    "print(tup)\n"
   ]
  },
  {
   "cell_type": "code",
   "execution_count": 20,
   "id": "2509bbf9",
   "metadata": {},
   "outputs": [
    {
     "data": {
      "text/plain": [
       "1"
      ]
     },
     "execution_count": 20,
     "metadata": {},
     "output_type": "execute_result"
    }
   ],
   "source": [
    "## Methods used in touple\n",
    "\n",
    "tup.count(1)\n"
   ]
  },
  {
   "cell_type": "code",
   "execution_count": 21,
   "id": "ef6cf30d",
   "metadata": {},
   "outputs": [
    {
     "data": {
      "text/plain": [
       "2"
      ]
     },
     "execution_count": 21,
     "metadata": {},
     "output_type": "execute_result"
    }
   ],
   "source": [
    "tup.index(3)"
   ]
  },
  {
   "cell_type": "code",
   "execution_count": 22,
   "id": "344c3903",
   "metadata": {},
   "outputs": [
    {
     "name": "stdout",
     "output_type": "stream",
     "text": [
      "(1, 'hello', 1.345)\n"
     ]
    }
   ],
   "source": [
    "## Packing and unpacking of tuples\n",
    "packed_tuple=1,'hello',1.345\n",
    "print(packed_tuple)"
   ]
  },
  {
   "cell_type": "code",
   "execution_count": 23,
   "id": "82c01c29",
   "metadata": {},
   "outputs": [
    {
     "name": "stdout",
     "output_type": "stream",
     "text": [
      "1\n",
      "hello\n",
      "1.345\n"
     ]
    }
   ],
   "source": [
    "a,b,c=packed_tuple\n",
    "print(a)\n",
    "print(b)\n",
    "print(c)"
   ]
  },
  {
   "cell_type": "code",
   "execution_count": 24,
   "id": "0cafff4e",
   "metadata": {},
   "outputs": [
    {
     "data": {
      "text/plain": [
       "(1, 'hello', 1.345)"
      ]
     },
     "execution_count": 24,
     "metadata": {},
     "output_type": "execute_result"
    }
   ],
   "source": [
    "## Unpacking usin *\n",
    "\n",
    "packed_tuple"
   ]
  },
  {
   "cell_type": "code",
   "execution_count": 28,
   "id": "24b3a19f",
   "metadata": {},
   "outputs": [
    {
     "name": "stdout",
     "output_type": "stream",
     "text": [
      "1\n",
      "['hello']\n",
      "1.345\n"
     ]
    }
   ],
   "source": [
    "first,*mid,last=packed_tuple\n",
    "print(first)\n",
    "print(mid)\n",
    "print(last)"
   ]
  },
  {
   "cell_type": "code",
   "execution_count": 32,
   "id": "80366c1c",
   "metadata": {},
   "outputs": [
    {
     "name": "stdout",
     "output_type": "stream",
     "text": [
      "[4, 5, 6]\n",
      "3\n"
     ]
    }
   ],
   "source": [
    "## nested tuples and list\n",
    "\n",
    "num=[[1,2,3],[4,5,6],[7,8,9]]\n",
    "print(num[1])\n",
    "print(num[0][2])"
   ]
  },
  {
   "cell_type": "code",
   "execution_count": 34,
   "id": "ef54167d",
   "metadata": {},
   "outputs": [
    {
     "name": "stdout",
     "output_type": "stream",
     "text": [
      "(4, 5, 6)\n",
      "8\n"
     ]
    }
   ],
   "source": [
    "num=((1,2,3),(4,5,6),(7,8,9))\n",
    "print(num[1])\n",
    "print(num[2][1])"
   ]
  },
  {
   "cell_type": "code",
   "execution_count": 38,
   "id": "82d6cd5e",
   "metadata": {},
   "outputs": [
    {
     "name": "stdout",
     "output_type": "stream",
     "text": [
      "1 2 3 \n",
      "4 5 6 \n",
      "7 8 9 \n"
     ]
    }
   ],
   "source": [
    "## Iterating over the tuple\n",
    "\n",
    "for sub_item in num:\n",
    "    for item in sub_item:\n",
    "        print(item,end=\" \")\n",
    "    print()    "
   ]
  },
  {
   "cell_type": "code",
   "execution_count": null,
   "id": "8c660227",
   "metadata": {},
   "outputs": [],
   "source": []
  }
 ],
 "metadata": {
  "kernelspec": {
   "display_name": "Python 3",
   "language": "python",
   "name": "python3"
  },
  "language_info": {
   "codemirror_mode": {
    "name": "ipython",
    "version": 3
   },
   "file_extension": ".py",
   "mimetype": "text/x-python",
   "name": "python",
   "nbconvert_exporter": "python",
   "pygments_lexer": "ipython3",
   "version": "3.10.16"
  }
 },
 "nbformat": 4,
 "nbformat_minor": 5
}
