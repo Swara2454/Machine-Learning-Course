{
 "cells": [
  {
   "cell_type": "markdown",
   "id": "7fbe0255",
   "metadata": {},
   "source": [
    "Functions \n",
    "\n",
    "Functions is a block of code which is used to perform a specific task. Function help in readability, organizing and reusing the code "
   ]
  },
  {
   "cell_type": "code",
   "execution_count": 2,
   "id": "94a1550c",
   "metadata": {},
   "outputs": [],
   "source": [
    "## Syntax \n",
    "\n",
    "def function_name(parameter):\n",
    "    \"\"\" Docstring \"\"\"\n",
    "    ## block of code\n",
    "    return statement\n"
   ]
  },
  {
   "cell_type": "code",
   "execution_count": 4,
   "id": "127e9796",
   "metadata": {},
   "outputs": [
    {
     "name": "stdout",
     "output_type": "stream",
     "text": [
      "Number is odd\n"
     ]
    }
   ],
   "source": [
    "def even_odd(num):\n",
    "    if num%2==0:\n",
    "        print(\"Number is even\")\n",
    "    else:\n",
    "        print(\"Number is odd\")\n",
    "\n",
    "even_odd(23)"
   ]
  },
  {
   "cell_type": "code",
   "execution_count": 6,
   "id": "3ab4a541",
   "metadata": {},
   "outputs": [
    {
     "data": {
      "text/plain": [
       "4"
      ]
     },
     "execution_count": 6,
     "metadata": {},
     "output_type": "execute_result"
    }
   ],
   "source": [
    "## muliple parameters\n",
    "\n",
    "def add(a,b):\n",
    "    return a+b\n",
    "\n",
    "add(2,2)"
   ]
  },
  {
   "cell_type": "code",
   "execution_count": 10,
   "id": "ec43c3cc",
   "metadata": {},
   "outputs": [
    {
     "name": "stdout",
     "output_type": "stream",
     "text": [
      " Hey Swarangi how are u ?\n"
     ]
    }
   ],
   "source": [
    "## Default parameter \n",
    "\n",
    "def great(name=\"Swarangi\"):\n",
    "    print(f\" Hey {name} how are u ?\")\n",
    "\n",
    "great()"
   ]
  },
  {
   "cell_type": "code",
   "execution_count": 12,
   "id": "65fd2b52",
   "metadata": {},
   "outputs": [
    {
     "name": "stdout",
     "output_type": "stream",
     "text": [
      "1\n",
      "2\n",
      "3\n",
      "4\n",
      "swa\n",
      "niraj\n"
     ]
    }
   ],
   "source": [
    "## Variable length argument\n",
    "## Positional and keyword argument\n",
    "\n",
    "def positional_arg(*args):           ## Multiple arguments can be stored in *args is called positional arguments\n",
    "    for num in args:\n",
    "        print(num)\n",
    "\n",
    "positional_arg(1,2,3,4,\"swa\",\"niraj\")"
   ]
  },
  {
   "cell_type": "markdown",
   "id": "443daa52",
   "metadata": {},
   "source": [
    "NOTE: we can keep any name after * and ** \n"
   ]
  },
  {
   "cell_type": "code",
   "execution_count": null,
   "id": "f10b3662",
   "metadata": {},
   "outputs": [
    {
     "name": "stdout",
     "output_type": "stream",
     "text": [
      "name:swara\n",
      "age:21\n",
      "marks:30\n"
     ]
    }
   ],
   "source": [
    "## keyword arg\n",
    "\n",
    "def keyword_arg(**kwargs):                  ## Multiple key-value pairs are stored in **kwargs\n",
    "    for key,value in kwargs.items():\n",
    "        print(f\"{key}:{value}\")\n",
    "\n",
    "keyword_arg(name=\"swara\", age=21, marks=30)"
   ]
  },
  {
   "cell_type": "code",
   "execution_count": null,
   "id": "2365d8b0",
   "metadata": {},
   "outputs": [
    {
     "name": "stdout",
     "output_type": "stream",
     "text": [
      "this is positional argument\n",
      "1\n",
      "2\n",
      "3\n",
      "swa\n",
      "this is keyword argument\n",
      "name:swara\n",
      "age:21\n",
      "marks:30\n"
     ]
    }
   ],
   "source": [
    "def posarg_kewarg(*args,**kwargs):\n",
    "    print(\"this is positional argument\")\n",
    "    for num in args:\n",
    "        print(num)\n",
    "\n",
    "    print(\"this is keyword argument\")\n",
    "    for key,val in kwargs.items():\n",
    "        print(f\"{key}:{val}\")\n",
    "\n",
    "posarg_kewarg(1,2,3,\"swa\",name=\"swara\", age=21, marks=30)  ## positional arg follows keyword args\n"
   ]
  },
  {
   "cell_type": "code",
   "execution_count": 18,
   "id": "f502bbe1",
   "metadata": {},
   "outputs": [
    {
     "data": {
      "text/plain": [
       "6"
      ]
     },
     "execution_count": 18,
     "metadata": {},
     "output_type": "execute_result"
    }
   ],
   "source": [
    "## Return statement\n",
    "\n",
    "def multiply(num1,num2):\n",
    "    return num1*num2\n",
    "\n",
    "multiply(2,3)"
   ]
  },
  {
   "cell_type": "code",
   "execution_count": null,
   "id": "9f3ec40b",
   "metadata": {},
   "outputs": [],
   "source": []
  }
 ],
 "metadata": {
  "kernelspec": {
   "display_name": "Python 3",
   "language": "python",
   "name": "python3"
  },
  "language_info": {
   "codemirror_mode": {
    "name": "ipython",
    "version": 3
   },
   "file_extension": ".py",
   "mimetype": "text/x-python",
   "name": "python",
   "nbconvert_exporter": "python",
   "pygments_lexer": "ipython3",
   "version": "3.10.16"
  }
 },
 "nbformat": 4,
 "nbformat_minor": 5
}
