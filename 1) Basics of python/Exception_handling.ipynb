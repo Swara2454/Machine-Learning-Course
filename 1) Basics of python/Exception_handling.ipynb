{
 "cells": [
  {
   "cell_type": "markdown",
   "id": "6a84e6c7",
   "metadata": {},
   "source": [
    "Exception Handling\n",
    "\n",
    "Exception Handling in python is used to handle the exception in a gracefull manner without blocking the execution of the code"
   ]
  },
  {
   "cell_type": "markdown",
   "id": "132a9f8a",
   "metadata": {},
   "source": [
    "What is Exception ?\n",
    "\n",
    "Exception is an event that disrupts the execution of a normnal program. Common exceptions are:\n",
    "1) ZeroDivisionError: Dividing by zero\n",
    "2) FileNotFoundError:File not found\n",
    "3) ValueError: Invalid value\n",
    "4) TypeError: Invalid type\n"
   ]
  },
  {
   "cell_type": "code",
   "execution_count": 3,
   "id": "a2a7ddd9",
   "metadata": {},
   "outputs": [
    {
     "name": "stdout",
     "output_type": "stream",
     "text": [
      "Variable has not been assigned\n"
     ]
    }
   ],
   "source": [
    "try:\n",
    "    a=b\n",
    "except:\n",
    "    print(\"Variable has not been assigned\")"
   ]
  },
  {
   "cell_type": "code",
   "execution_count": 6,
   "id": "ed54f581",
   "metadata": {},
   "outputs": [
    {
     "name": "stdout",
     "output_type": "stream",
     "text": [
      "name 'b' is not defined\n"
     ]
    }
   ],
   "source": [
    "try:\n",
    "    a=b\n",
    "except NameError as nm:\n",
    "    print(nm)"
   ]
  },
  {
   "cell_type": "code",
   "execution_count": 10,
   "id": "6f17f21e",
   "metadata": {},
   "outputs": [
    {
     "name": "stdout",
     "output_type": "stream",
     "text": [
      "division by zero\n"
     ]
    }
   ],
   "source": [
    "try:\n",
    "    result= 1/0\n",
    "except ZeroDivisionError as zd:\n",
    "    print(zd)"
   ]
  },
  {
   "cell_type": "code",
   "execution_count": 14,
   "id": "e4603435",
   "metadata": {},
   "outputs": [
    {
     "name": "stdout",
     "output_type": "stream",
     "text": [
      "division by zero\n"
     ]
    }
   ],
   "source": [
    "try :\n",
    "    result=1/0\n",
    "except Exception as ex:    ## Exception is the parent class of all the exce[tion handling subclasses\n",
    "    print(ex)"
   ]
  },
  {
   "cell_type": "code",
   "execution_count": 21,
   "id": "676a20ea",
   "metadata": {},
   "outputs": [
    {
     "name": "stdout",
     "output_type": "stream",
     "text": [
      "0.2\n"
     ]
    }
   ],
   "source": [
    "##try,except with else\n",
    "\n",
    "try:\n",
    "    i=int(input(\"Enter a number : \"))\n",
    "    result= i/10\n",
    "except ZeroDivisionError as zd:\n",
    "    print(zd)\n",
    "except ValueError as vl:\n",
    "    print(vl)\n",
    "except Exception as ex:    \n",
    "    print(ex)\n",
    "\n",
    "else:\n",
    "    print(result)              ## if exception not caught then program moves to else block\n",
    "\n"
   ]
  },
  {
   "cell_type": "code",
   "execution_count": null,
   "id": "cd302f6e",
   "metadata": {},
   "outputs": [
    {
     "name": "stdout",
     "output_type": "stream",
     "text": [
      "0.2\n",
      "Execution is over\n"
     ]
    }
   ],
   "source": [
    "## try,except,else and finally block\n",
    "\n",
    "try:\n",
    "    i=int(input(\"Enter a number : \"))\n",
    "    result= i/10\n",
    "except ZeroDivisionError as zd:\n",
    "    print(zd)\n",
    "except ValueError as vl:\n",
    "    print(vl)\n",
    "except Exception as ex:    \n",
    "    print(ex)\n",
    "\n",
    "else:\n",
    "    print(result)\n",
    "\n",
    "finally:                   ## Finally block is a block which is executed compulsorily at the end of the program weather the execution is handled or not\n",
    "    print(\"Execution is over\")      \n"
   ]
  },
  {
   "cell_type": "code",
   "execution_count": 27,
   "id": "680517fd",
   "metadata": {},
   "outputs": [
    {
     "name": "stdout",
     "output_type": "stream",
     "text": [
      "[Errno 2] No such file or directory: 'sampl.txt'\n",
      "File is closed\n"
     ]
    }
   ],
   "source": [
    "## Practical example of file handling and exception handling \n",
    "\n",
    "try:\n",
    "    with open(\"sampl.txt\",'r') as file:\n",
    "        file.read()\n",
    "except FileNotFoundError as fe:\n",
    "    print(fe)\n",
    "except Exception as ex:\n",
    "    print(ex)\n",
    "finally:\n",
    "    if 'file' in locals() or not file.closed():\n",
    "        file.close()\n",
    "        print(\"File is closed\")\n"
   ]
  },
  {
   "cell_type": "code",
   "execution_count": null,
   "id": "741ff2fb",
   "metadata": {},
   "outputs": [],
   "source": []
  }
 ],
 "metadata": {
  "kernelspec": {
   "display_name": "Python 3",
   "language": "python",
   "name": "python3"
  },
  "language_info": {
   "codemirror_mode": {
    "name": "ipython",
    "version": 3
   },
   "file_extension": ".py",
   "mimetype": "text/x-python",
   "name": "python",
   "nbconvert_exporter": "python",
   "pygments_lexer": "ipython3",
   "version": "3.10.16"
  }
 },
 "nbformat": 4,
 "nbformat_minor": 5
}
